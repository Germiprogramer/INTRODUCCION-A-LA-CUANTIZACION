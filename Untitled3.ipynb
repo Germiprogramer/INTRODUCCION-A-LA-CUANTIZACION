{
  "nbformat": 4,
  "nbformat_minor": 0,
  "metadata": {
    "colab": {
      "provenance": []
    },
    "kernelspec": {
      "name": "python3",
      "display_name": "Python 3"
    },
    "language_info": {
      "name": "python"
    }
  },
  "cells": [
    {
      "cell_type": "code",
      "execution_count": 5,
      "metadata": {
        "colab": {
          "base_uri": "https://localhost:8080/"
        },
        "id": "LiEu_wsuT_rn",
        "outputId": "f3dbcd78-852a-43f8-b7a5-f910d03fddec"
      },
      "outputs": [
        {
          "output_type": "stream",
          "name": "stdout",
          "text": [
            "Requirement already satisfied: torch in /usr/local/lib/python3.10/dist-packages (2.0.1+cu118)\n",
            "Requirement already satisfied: filelock in /usr/local/lib/python3.10/dist-packages (from torch) (3.12.4)\n",
            "Requirement already satisfied: typing-extensions in /usr/local/lib/python3.10/dist-packages (from torch) (4.5.0)\n",
            "Requirement already satisfied: sympy in /usr/local/lib/python3.10/dist-packages (from torch) (1.12)\n",
            "Requirement already satisfied: networkx in /usr/local/lib/python3.10/dist-packages (from torch) (3.1)\n",
            "Requirement already satisfied: jinja2 in /usr/local/lib/python3.10/dist-packages (from torch) (3.1.2)\n",
            "Requirement already satisfied: triton==2.0.0 in /usr/local/lib/python3.10/dist-packages (from torch) (2.0.0)\n",
            "Requirement already satisfied: cmake in /usr/local/lib/python3.10/dist-packages (from triton==2.0.0->torch) (3.27.6)\n",
            "Requirement already satisfied: lit in /usr/local/lib/python3.10/dist-packages (from triton==2.0.0->torch) (17.0.2)\n",
            "Requirement already satisfied: MarkupSafe>=2.0 in /usr/local/lib/python3.10/dist-packages (from jinja2->torch) (2.1.3)\n",
            "Requirement already satisfied: mpmath>=0.19 in /usr/local/lib/python3.10/dist-packages (from sympy->torch) (1.3.0)\n",
            "Requirement already satisfied: transformers in /usr/local/lib/python3.10/dist-packages (4.34.0)\n",
            "Requirement already satisfied: filelock in /usr/local/lib/python3.10/dist-packages (from transformers) (3.12.4)\n",
            "Requirement already satisfied: huggingface-hub<1.0,>=0.16.4 in /usr/local/lib/python3.10/dist-packages (from transformers) (0.17.3)\n",
            "Requirement already satisfied: numpy>=1.17 in /usr/local/lib/python3.10/dist-packages (from transformers) (1.23.5)\n",
            "Requirement already satisfied: packaging>=20.0 in /usr/local/lib/python3.10/dist-packages (from transformers) (23.2)\n",
            "Requirement already satisfied: pyyaml>=5.1 in /usr/local/lib/python3.10/dist-packages (from transformers) (6.0.1)\n",
            "Requirement already satisfied: regex!=2019.12.17 in /usr/local/lib/python3.10/dist-packages (from transformers) (2023.6.3)\n",
            "Requirement already satisfied: requests in /usr/local/lib/python3.10/dist-packages (from transformers) (2.31.0)\n",
            "Requirement already satisfied: tokenizers<0.15,>=0.14 in /usr/local/lib/python3.10/dist-packages (from transformers) (0.14.1)\n",
            "Requirement already satisfied: safetensors>=0.3.1 in /usr/local/lib/python3.10/dist-packages (from transformers) (0.4.0)\n",
            "Requirement already satisfied: tqdm>=4.27 in /usr/local/lib/python3.10/dist-packages (from transformers) (4.66.1)\n",
            "Requirement already satisfied: fsspec in /usr/local/lib/python3.10/dist-packages (from huggingface-hub<1.0,>=0.16.4->transformers) (2023.6.0)\n",
            "Requirement already satisfied: typing-extensions>=3.7.4.3 in /usr/local/lib/python3.10/dist-packages (from huggingface-hub<1.0,>=0.16.4->transformers) (4.5.0)\n",
            "Requirement already satisfied: charset-normalizer<4,>=2 in /usr/local/lib/python3.10/dist-packages (from requests->transformers) (3.3.0)\n",
            "Requirement already satisfied: idna<4,>=2.5 in /usr/local/lib/python3.10/dist-packages (from requests->transformers) (3.4)\n",
            "Requirement already satisfied: urllib3<3,>=1.21.1 in /usr/local/lib/python3.10/dist-packages (from requests->transformers) (2.0.6)\n",
            "Requirement already satisfied: certifi>=2017.4.17 in /usr/local/lib/python3.10/dist-packages (from requests->transformers) (2023.7.22)\n"
          ]
        },
        {
          "output_type": "stream",
          "name": "stderr",
          "text": [
            "/usr/local/lib/python3.10/dist-packages/transformers/generation/configuration_utils.py:362: UserWarning: `do_sample` is set to `False`. However, `temperature` is set to `0.7` -- this flag is only used in sample-based generation modes. You should set `do_sample=True` or unset `temperature`.\n",
            "  warnings.warn(\n",
            "/usr/local/lib/python3.10/dist-packages/transformers/generation/configuration_utils.py:367: UserWarning: `do_sample` is set to `False`. However, `top_p` is set to `0.95` -- this flag is only used in sample-based generation modes. You should set `do_sample=True` or unset `top_p`.\n",
            "  warnings.warn(\n",
            "The attention mask and the pad token id were not set. As a consequence, you may observe unexpected behavior. Please pass your input's `attention_mask` to obtain reliable results.\n",
            "Setting `pad_token_id` to `eos_token_id`:50256 for open-end generation.\n",
            "The attention mask and the pad token id were not set. As a consequence, you may observe unexpected behavior. Please pass your input's `attention_mask` to obtain reliable results.\n",
            "Setting `pad_token_id` to `eos_token_id`:50256 for open-end generation.\n"
          ]
        },
        {
          "output_type": "stream",
          "name": "stdout",
          "text": [
            "Texto generado (cuantizado):\n",
            " Me gusta mucho el futbol, pero no lo hace como un deporte.\n",
            "\n",
            "El fútbol es un deportes muy popular en la ciudad, y es muy practicado en el barrio de San José. El fútbol se practica en las calles de la zona, en los barrios de La Paz, San Martín, La Merced, El Carmen, Santa Rosa, Los Ángeles, entre otros. La ciudad de Santa Cruz cuenta con un equipo de fútbol profesional, el Club Deportivo Santa Fe, que juega en su estadio municipal, ubicado en San Salvador. En el año 2010, la Asociación de Fútbol de El Salvador (AFSA) anunció que el fútbol en Santa Catarina se organizaría en un torneo de copa, llamado \"Clásico de Campeones\", que se celebraría cada año\n"
          ]
        },
        {
          "output_type": "stream",
          "name": "stderr",
          "text": [
            "/usr/local/lib/python3.10/dist-packages/transformers/generation/utils.py:1260: UserWarning: Using the model-agnostic default `max_length` (=20) to control the generation length. We recommend setting `max_new_tokens` to control the maximum length of the generation.\n",
            "  warnings.warn(\n",
            "The attention mask and the pad token id were not set. As a consequence, you may observe unexpected behavior. Please pass your input's `attention_mask` to obtain reliable results.\n",
            "Setting `pad_token_id` to `eos_token_id`:50256 for open-end generation.\n",
            "The attention mask and the pad token id were not set. As a consequence, you may observe unexpected behavior. Please pass your input's `attention_mask` to obtain reliable results.\n",
            "Setting `pad_token_id` to `eos_token_id`:50256 for open-end generation.\n"
          ]
        },
        {
          "output_type": "stream",
          "name": "stdout",
          "text": [
            "Pérdida en el conjunto de prueba: 11.3333\n"
          ]
        }
      ],
      "source": [
        "!pip install torch\n",
        "!pip install transformers\n",
        "import torch\n",
        "from transformers import GPT2LMHeadModel, GPT2Tokenizer\n",
        "from torch.quantization import QuantStub, DeQuantStub, default_qconfig\n",
        "\n",
        "# Cargar un modelo preentrenado de GPT-2 en español\n",
        "model_name = \"datificate/gpt2-small-spanish\"  # GPT-2 preentrenado en español\n",
        "model = GPT2LMHeadModel.from_pretrained(model_name)\n",
        "tokenizer = GPT2Tokenizer.from_pretrained(model_name)\n",
        "\n",
        "# Texto de entrada en español\n",
        "input_text = \"Me gusta mucho el futbol\"\n",
        "\n",
        "# Tokenizar el texto de entrada\n",
        "input_ids = tokenizer.encode(input_text, return_tensors=\"pt\")\n",
        "\n",
        "# Cuantización dinámica\n",
        "quantized_model = torch.quantization.quantize_dynamic(\n",
        "    model, {torch.nn.Linear, torch.nn.LayerNorm}, dtype=torch.qint8\n",
        ")\n",
        "\n",
        "# Generar texto adicional basado en la entrada cuantizada\n",
        "output = quantized_model.generate(\n",
        "    input_ids,\n",
        "    max_length=150,  # Ajusta la longitud del texto generado según sea necesario\n",
        "    num_return_sequences=1,\n",
        "    no_repeat_ngram_size=2,\n",
        "    top_k=50,\n",
        "    top_p=0.95,\n",
        "    temperature=0.7\n",
        ")\n",
        "\n",
        "# Decodificar el texto generado (cuantizado) en español\n",
        "generated_text = tokenizer.decode(output[0], skip_special_tokens=True)\n",
        "\n",
        "# Mostrar el texto generado (cuantizado) en español\n",
        "print(\"Texto generado (cuantizado):\\n\", generated_text)\n",
        "\n",
        "# Aquí es donde puedes cargar y preprocesar tus datos de prueba (reemplaza con tus datos reales)\n",
        "test_data = [\n",
        "    \"Esta es una oración de prueba 1.\",\n",
        "    \"Aquí tienes otra oración de ejemplo.\",\n",
        "    \"Puedes agregar más ejemplos de prueba según sea necesario.\",\n",
        "]\n",
        "\n",
        "# Función de evaluación (lógica ficticia)\n",
        "def evaluate(model, data):\n",
        "    total_loss = 0.0\n",
        "    with torch.no_grad():\n",
        "        for sentence in data:\n",
        "            # Tokeniza la oración\n",
        "            input_ids = tokenizer.encode(sentence, return_tensors=\"pt\")\n",
        "            # Realiza la inferencia con el modelo cuantizado\n",
        "            output = quantized_model.generate(input_ids)\n",
        "            # Supongamos que calculas la pérdida como la diferencia de longitud entre la entrada y el texto generado\n",
        "            loss = abs(len(output[0]) - len(input_ids[0]))\n",
        "            # Agrega la pérdida a total_loss\n",
        "            total_loss += loss\n",
        "\n",
        "    # Calcula la métrica final (por ejemplo, promedio de la pérdida)\n",
        "    average_loss = total_loss / len(data)\n",
        "    return average_loss\n",
        "\n",
        "# Evaluar el modelo cuantizado\n",
        "test_loss = evaluate(quantized_model, test_data)\n",
        "print(f\"Pérdida en el conjunto de prueba: {test_loss:.4f}\")\n"
      ]
    }
  ]
}